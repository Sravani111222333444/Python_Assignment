{
  "cells": [
    {
      "cell_type": "markdown",
      "metadata": {
        "id": "YHVaFxVPYCRh"
      },
      "source": [
        "## Question 1"
      ]
    },
    {
      "cell_type": "markdown",
      "metadata": {
        "id": "FNHaBKkqYCRn"
      },
      "source": [
        "- `Take two integer numbers and return their product. If the product is greater than 1000, then return their sum if product is less than 1000 return product value only.`\n",
        "\n"
      ]
    },
    {
      "cell_type": "code",
      "execution_count": null,
      "metadata": {
        "id": "y9cdGwlLYCRp"
      },
      "outputs": [],
      "source": [
        "# Please write The solution Here for above question 1:\n",
        "a = 500\n",
        "b = 30\n",
        "product = (a * b) > 1000\n",
        "if product:\n",
        "    print(product)\n",
        "else:\n",
        "    print(sum)\n"
      ]
    },
    {
      "cell_type": "markdown",
      "metadata": {
        "id": "kjwN2CmLYCRr"
      },
      "source": [
        "## question 2"
      ]
    },
    {
      "cell_type": "markdown",
      "metadata": {
        "id": "4P29lNRkYCRr"
      },
      "source": [
        "- `Given a range of the first 10 numbers, Iterate from the start number to the end number, and In each iteration print the sum of the current number and previous number`\n",
        "\n",
        "Expected output:\n",
        "-----------------\n",
        "    Printing current and previous number sum in a range(10)\n",
        "    Current Number 0 Previous Number  0  Sum:  0\n",
        "    Current Number 1 Previous Number  0  Sum:  1\n",
        "    Current Number 2 Previous Number  1  Sum:  3\n",
        "    Current Number 3 Previous Number  2  Sum:  5\n",
        "    Current Number 4 Previous Number  3  Sum:  7\n",
        "    Current Number 5 Previous Number  4  Sum:  9\n",
        "    Current Number 6 Previous Number  5  Sum:  11\n",
        "    Current Number 7 Previous Number  6  Sum:  13\n",
        "    Current Number 8 Previous Number  7  Sum:  15\n",
        "    Current Number 9 Previous Number  8  Sum:  17"
      ]
    },
    {
      "cell_type": "code",
      "execution_count": null,
      "metadata": {
        "id": "JC7zdEsOYCRs"
      },
      "outputs": [],
      "source": [
        "# Please write The solution Here for above question 2:\n",
        "previous_num = 0 \n",
        "for current_num in range(10):\n",
        "    sum = current_num + previous_num \n",
        "    previous_num = current_num\n",
        "    print(f'current_num {current_num} previous_num  {previous_num} sum: {sum}')\n",
        "\n",
        "\n"
      ]
    },
    {
      "cell_type": "markdown",
      "metadata": {
        "id": "iSpyI6jfYCRs"
      },
      "source": [
        "## question 3"
      ]
    },
    {
      "cell_type": "markdown",
      "metadata": {
        "id": "fMJUOEMqYCRt"
      },
      "source": [
        "Given a string and an integer number n, remove characters from a string starting from zero up to n and return a new string\n",
        "\n",
        "- Example :\n",
        "     `(\"pynative\", 4) so output must be tive.`\n",
        "     \n",
        "     `Note: n must be less than the length of the string.`"
      ]
    },
    {
      "cell_type": "code",
      "execution_count": null,
      "metadata": {
        "id": "q_ntVErqYCRt"
      },
      "outputs": [],
      "source": [
        "# Please write The solution Here for above question 3:\n",
        "a = 'pynative'\n",
        "print(a[4:])\n",
        "\n"
      ]
    },
    {
      "cell_type": "markdown",
      "metadata": {
        "id": "0zHaQNcDYCRu"
      },
      "source": [
        "## question 4"
      ]
    },
    {
      "cell_type": "markdown",
      "metadata": {
        "id": "6Ny9jQtTYCRu"
      },
      "source": [
        " `Given a list of numbers, return True if first and last number of a list is same`\n",
        "\n",
        "    Expected Output:\n",
        "    -------------------------------------\n",
        "\n",
        "    Given list is\n",
        "    a =  [10, 20, 30, 40, 10]\n",
        "    b = [10 , 20 , 30 , 40, 10 ]\n",
        "    result is True\n",
        "\n",
        "    Given list is  \n",
        "    a = [10, 20, 30, 40, 50]\n",
        "    b = [11 , 21 , 31 , 41 , 51 ]\n",
        "    result is False"
      ]
    },
    {
      "cell_type": "code",
      "execution_count": null,
      "metadata": {
        "id": "pff2gHkOYCRu"
      },
      "outputs": [],
      "source": [
        "# Please write The solution Here for above question 4:\n",
        "\n",
        "a = [10,20,30,40,10]\n",
        "b = [10,20,30,40,50]\n",
        "if a[0] == a[-1]:\n",
        "    print('True')\n",
        "elif b[0] == b[-1]:\n",
        "    print('True')\n",
        "else:\n",
        "    print('False')"
      ]
    },
    {
      "cell_type": "markdown",
      "metadata": {
        "id": "1e05gCZGYCRv"
      },
      "source": [
        "## question 5"
      ]
    },
    {
      "cell_type": "markdown",
      "metadata": {
        "id": "IYhZTAh6YCRv"
      },
      "source": [
        "### Given a two Python list. Iterate both lists simultaneously such that list1 should display item in original order and list2 in reverse order\n",
        "\n",
        "    list1 = [10, 20, 30, 40]\n",
        "    list2 = [100, 200, 300, 400]\n",
        "\n",
        "\n",
        "    Expected output:\n",
        "    -----------------------------\n",
        "    10 400\n",
        "    20 300\n",
        "    30 200\n",
        "    40 100"
      ]
    },
    {
      "cell_type": "code",
      "execution_count": null,
      "metadata": {
        "id": "-hI6I6TGYCRv"
      },
      "outputs": [],
      "source": [
        "# Please write The solution Here for above question 5:\n",
        "\n",
        "\n",
        "a = [10,20,30,40]\n",
        "b = [100,200,300,400]\n",
        "zipped = zip(a,b)\n",
        "for (a,b) in zipped:\n",
        "    print(a,b)\n"
      ]
    },
    {
      "cell_type": "markdown",
      "metadata": {
        "id": "a5mgNCkOYCRw"
      },
      "source": [
        "## question 6"
      ]
    },
    {
      "cell_type": "markdown",
      "metadata": {
        "id": "MCdYkvGFYCRw"
      },
      "source": [
        "### Remove empty strings from the list of strings\n",
        "\n",
        "\n",
        "    list1 = [\"Mike\", \"\", \"Emma\", \"Kelly\", \"\", \"Brad\"]\n",
        "\n",
        "    Expected output:\n",
        "    ----------------------\n",
        "\n",
        "    [\"Mike\", \"Emma\", \"Kelly\", \"Brad\"]\n"
      ]
    },
    {
      "cell_type": "code",
      "execution_count": null,
      "metadata": {
        "id": "387cKhfsYCRw"
      },
      "outputs": [],
      "source": [
        "# Please write The solution Here for above question 6:\n",
        "a = ['Mike',\"\",'Emma','Kelly',\"\",'Brand']\n",
        "new_list = []\n",
        "for item in a:\n",
        "    if item:\n",
        "        new_list.append(item)\n",
        "\n",
        "print(new_list)\n"
      ]
    },
    {
      "cell_type": "markdown",
      "metadata": {
        "id": "ou326rAIYCRw"
      },
      "source": [
        "### Question 7"
      ]
    },
    {
      "cell_type": "markdown",
      "metadata": {
        "id": "e_cmymJQYCRx"
      },
      "source": [
        "### Find the palindrome of a number\n",
        "\n",
        "    input = 121\n",
        "    output = 121\n",
        "\n",
        "    it is a palindrome number\n",
        "\n",
        "\n",
        "    input = 123\n",
        "    output = 321\n",
        "\n",
        "    it is not a palindrome number\n",
        "\n",
        "\n"
      ]
    },
    {
      "cell_type": "code",
      "execution_count": null,
      "metadata": {
        "id": "h3ZXwi_qYCRx"
      },
      "outputs": [],
      "source": [
        "# Please write The solution Here for above question 7:\n",
        "a = 121\n",
        "temp = a \n",
        "check = 0\n",
        "while a >0:\n",
        "    re = a % 10\n",
        "    check = (check * 10) + re\n",
        "    a = a // 10 \n",
        "if temp == check:\n",
        "    print('it is a palindrome')\n",
        "else:\n",
        "    print('it is not a palindrome')"
      ]
    }
  ],
  "metadata": {
    "colab": {
      "provenance": []
    },
    "kernelspec": {
      "display_name": "Python 3 (ipykernel)",
      "language": "python",
      "name": "python3"
    },
    "language_info": {
      "codemirror_mode": {
        "name": "ipython",
        "version": 3
      },
      "file_extension": ".py",
      "mimetype": "text/x-python",
      "name": "python",
      "nbconvert_exporter": "python",
      "pygments_lexer": "ipython3",
      "version": "3.11.5"
    }
  },
  "nbformat": 4,
  "nbformat_minor": 0
}
