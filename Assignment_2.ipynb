{
 "cells": [
  {
   "cell_type": "raw",
   "id": "144f8dd9",
   "metadata": {},
   "source": [
    "1 . Print the input text without vowels \n",
    "\n",
    "input = 'hai'\n",
    "\n",
    "Expected output = h"
   ]
  },
  {
   "cell_type": "raw",
   "id": "8ef0ffbd",
   "metadata": {
    "vscode": {
     "languageId": "raw"
    }
   },
   "source": [
    "a = 'hai'\n",
    "for i in a:\n",
    "   if i not in 'aeiouAEIOU':\n",
    "       print(i)\n",
    "       "
   ]
  },
  {
   "cell_type": "code",
   "execution_count": null,
   "id": "cf1f9ca7",
   "metadata": {},
   "outputs": [],
   "source": []
  },
  {
   "cell_type": "raw",
   "id": "9f0cbac6",
   "metadata": {},
   "source": [
    "2 . Print only vowels from the text \n",
    "\n",
    "input = data \n",
    "\n",
    "Expected output = dt "
   ]
  },
  {
   "cell_type": "code",
   "execution_count": null,
   "id": "a6c81c61",
   "metadata": {},
   "outputs": [],
   "source": [
    "a = 'data'\n",
    "for i in a:\n",
    "    if i in 'aeiouAEIOU':\n",
    "        print(i,end = '')"
   ]
  },
  {
   "cell_type": "raw",
   "id": "6cbfe6e1",
   "metadata": {
    "vscode": {
     "languageId": "raw"
    }
   },
   "source": [
    "3 . print each valu from the list with its index \n",
    "\n",
    "\n",
    "input = [10,11,50,34]\n",
    "\n",
    "Expected output = [100 , 111 , 502 , 343]\n",
    "\n"
   ]
  },
  {
   "cell_type": "code",
   "execution_count": null,
   "id": "d92cb8a3",
   "metadata": {},
   "outputs": [],
   "source": []
  },
  {
   "cell_type": "raw",
   "id": "de670ddc",
   "metadata": {},
   "source": [
    "4 . This is a Python Program to print all integers that aren’t divisible by either 2 or 3 and lies between 1 and 50."
   ]
  },
  {
   "cell_type": "raw",
   "id": "9333041f",
   "metadata": {
    "vscode": {
     "languageId": "raw"
    }
   },
   "source": [
    "for i in range(1,51):\n",
    "    if i % 2 != 0 and  i % 3!= 0:\n",
    "        print(i)"
   ]
  },
  {
   "cell_type": "raw",
   "id": "9f9b54af",
   "metadata": {},
   "source": [
    "5 . The program takes in an integer and prints the smallest divisor of the integer."
   ]
  },
  {
   "cell_type": "raw",
   "id": "771f9469",
   "metadata": {
    "vscode": {
     "languageId": "raw"
    }
   },
   "source": [
    "n = 55\n",
    "min_num = None\n",
    "for i in range(2,n+1):\n",
    "    if n % i == 0:\n",
    "        min_num = i\n",
    "        break\n",
    "\n",
    "print(min_num)"
   ]
  },
  {
   "cell_type": "raw",
   "id": "fe7c7e96",
   "metadata": {},
   "source": [
    "6 . Write a Python program to check if it is a strong number or not ."
   ]
  },
  {
   "cell_type": "raw",
   "id": "d14a974a",
   "metadata": {
    "vscode": {
     "languageId": "raw"
    }
   },
   "source": [
    "import math\n",
    "\n",
    "a = 200\n",
    "kk  = a\n",
    "check = 0\n",
    "while a > 0 :\n",
    "  re = a % 10\n",
    "  check = check + math.factorial(re)\n",
    "  a = a // 10\n",
    "if  kk == check:\n",
    "  print('strong number')\n",
    "else:\n",
    "  print('not a strong number')\n"
   ]
  },
  {
   "cell_type": "raw",
   "id": "6fccfd65",
   "metadata": {},
   "source": [
    "7 . Write a Python program that takes input from the user and displays that input back in upper and lower cases."
   ]
  },
  {
   "cell_type": "raw",
   "id": "a9521d9d",
   "metadata": {
    "vscode": {
     "languageId": "raw"
    }
   },
   "source": [
    "word = 'DaTasciEncE'\n",
    "upper_char = ''\n",
    "lower_char = ''\n",
    "for char in word:\n",
    "    if char.upper() == char:\n",
    "        upper_char+=char\n",
    "    else:\n",
    "        lower_char+=char \n",
    "\n",
    "\n",
    "print(upper_char)\n",
    "print(lower_char)"
   ]
  },
  {
   "cell_type": "raw",
   "id": "8e92ebb5",
   "metadata": {},
   "source": [
    "8 . Write a Python program to remove spaces from a given string\n",
    "\n",
    "input = united states \n",
    "output = unitedstates "
   ]
  },
  {
   "cell_type": "code",
   "execution_count": null,
   "id": "5d8f2f1b",
   "metadata": {},
   "outputs": [],
   "source": [
    "s = 'united states of america'\n",
    "new_sentance = ''\n",
    "for word in s:\n",
    "    if word!= \" \":\n",
    "        new_sentance+=word\n",
    "print(new_sentance)\n"
   ]
  },
  {
   "cell_type": "raw",
   "id": "0b1bc8da",
   "metadata": {},
   "source": [
    "9 . Write a Python program to capitalize first and last letters of each word of a given string."
   ]
  },
  {
   "cell_type": "code",
   "execution_count": null,
   "id": "0642e4ef",
   "metadata": {},
   "outputs": [],
   "source": [
    "a = 'united states of america'\n",
    "\n",
    "word = a.split()\n",
    "modified_words = []\n",
    "\n"
   ]
  },
  {
   "cell_type": "raw",
   "id": "77b5cd36",
   "metadata": {},
   "source": [
    "10 . write a python program to find length of a string but should not use len keyword "
   ]
  },
  {
   "cell_type": "raw",
   "id": "3577216e",
   "metadata": {
    "vscode": {
     "languageId": "raw"
    }
   },
   "source": [
    "a = 'data science'\n",
    "count = 0\n",
    "for i in a:\n",
    "    count+=1\n",
    "print(count)"
   ]
  },
  {
   "cell_type": "code",
   "execution_count": null,
   "id": "4926f802",
   "metadata": {},
   "outputs": [],
   "source": []
  }
 ],
 "metadata": {
  "kernelspec": {
   "display_name": "Python 3 (ipykernel)",
   "language": "python",
   "name": "python3"
  },
  "language_info": {
   "codemirror_mode": {
    "name": "ipython",
    "version": 3
   },
   "file_extension": ".py",
   "mimetype": "text/x-python",
   "name": "python",
   "nbconvert_exporter": "python",
   "pygments_lexer": "ipython3",
   "version": "3.11.5"
  }
 },
 "nbformat": 4,
 "nbformat_minor": 5
}
